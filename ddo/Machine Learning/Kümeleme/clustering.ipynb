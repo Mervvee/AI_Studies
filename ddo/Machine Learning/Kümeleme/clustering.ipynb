{
 "cells": [
  {
   "cell_type": "code",
   "execution_count": 2,
   "id": "5fa1648e-28e6-4705-a8e9-83c623db4fb3",
   "metadata": {},
   "outputs": [],
   "source": [
    "import numpy\n",
    "import random\n",
    "#from pandas import Dataframe\n",
    "from typing import List\n",
    "#from sklearn.datasets import make_blobs\n",
    "#from sklearn.cluster import Kmeans, AgglomerativeClustering\n",
    "#from sklearn.mixture import GaussianMixture\n",
    "#from matpoltlib import pyplot as plotter\n",
    "\n",
    "#shift + enter : to run the cell (choose the one first)"
   ]
  },
  {
   "cell_type": "code",
   "execution_count": 4,
   "id": "a6b0a7ad-7368-482f-b1c4-2edcee26d57d",
   "metadata": {},
   "outputs": [],
   "source": [
    "def generate_uniform_dataset(n_data_points = 100,\n",
    "                             feature_range: int = 1.0,\n",
    "                             random_state: int = None):\n",
    "    if random_state is None :\n",
    "        random_state = int(random.random() * 100)\n",
    "    return numpy.random.RandomState(random_state).uniform(0,\n",
    "                                                          feature_range,\n",
    "                                                          size=(n_data_points, 2))"
   ]
  },
  {
   "cell_type": "code",
   "execution_count": null,
   "id": "e7b5ef2c-5083-4000-bdb2-961d67d55165",
   "metadata": {},
   "outputs": [],
   "source": [
    "def generate_blobbed_dataset(n_data_points=100,\n",
    "                             feature_range: int= 1.0,\n",
    "                             n_blobs : int = 3,\n",
    "                             blob_std: float = None,\n",
    "                             blob_centers: List[List[float]] = None,\n",
    "                             size_blobs: List[int] = None,\n",
    "                             random_state: int = None):\n",
    "    if random_state is None :\n",
    "        random_state = int(random.random() * 100)\n",
    "    if blob_std is None :\n",
    "        random.random()* 0.2 * feature_range\n",
    "    if blob_centers is None :\n",
    "        blob_centers = [[random.random() * feature_range,\n",
    "                         random.random() * feature_range] for x in range(n_blobs)]\n",
    "    if size_blobs is None :\n",
    "        size_blobs = [int(random.random() * 10) for x in range(n_blobs)]\n",
    "\n",
    "    blob_samples = []\n",
    "\n",
    "    for blob_counter in range(len(size_blobs)):\n",
    "        blob_samples.append(n_data_points * size_blobs[blob_counter] // sum(size_blobs))\n",
    "    return make_blobs(n_samples=blob_samples,\n",
    "                      cluster_std=blob_std,\n",
    "                      centers=blob_centers,\n",
    "                      random_state=random_state)[0]"
   ]
  }
 ],
 "metadata": {
  "kernelspec": {
   "display_name": "Python 3 (ipykernel)",
   "language": "python",
   "name": "python3"
  },
  "language_info": {
   "codemirror_mode": {
    "name": "ipython",
    "version": 3
   },
   "file_extension": ".py",
   "mimetype": "text/x-python",
   "name": "python",
   "nbconvert_exporter": "python",
   "pygments_lexer": "ipython3",
   "version": "3.11.7"
  }
 },
 "nbformat": 4,
 "nbformat_minor": 5
}
